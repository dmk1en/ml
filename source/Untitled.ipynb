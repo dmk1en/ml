{
 "cells": [
  {
   "cell_type": "code",
   "execution_count": 2,
   "id": "4017c03c-9024-4cbe-88c8-1cdb58c9ba38",
   "metadata": {},
   "outputs": [
    {
     "name": "stderr",
     "output_type": "stream",
     "text": [
      "Exception in Tkinter callback\n",
      "Traceback (most recent call last):\n",
      "  File \"C:\\Users\\Admin\\AppData\\Local\\Programs\\Python\\Python312\\Lib\\tkinter\\__init__.py\", line 1967, in __call__\n",
      "    return self.func(*args)\n",
      "           ^^^^^^^^^^^^^^^^\n",
      "  File \"C:\\Users\\Admin\\AppData\\Local\\Temp\\ipykernel_18316\\2430006319.py\", line 11, in check_spam\n",
      "    is_spam = spam_model.predict(tfidf.transform([text]))\n",
      "                                 ^^^^^^^^^^^^^^^^^^^^^^^\n",
      "  File \"C:\\Users\\Admin\\AppData\\Local\\Programs\\Python\\Python312\\Lib\\site-packages\\sklearn\\feature_extraction\\text.py\", line 2160, in transform\n",
      "    check_is_fitted(self, msg=\"The TF-IDF vectorizer is not fitted\")\n",
      "  File \"C:\\Users\\Admin\\AppData\\Local\\Programs\\Python\\Python312\\Lib\\site-packages\\sklearn\\utils\\validation.py\", line 1622, in check_is_fitted\n",
      "    raise NotFittedError(msg % {\"name\": type(estimator).__name__})\n",
      "sklearn.exceptions.NotFittedError: The TF-IDF vectorizer is not fitted\n"
     ]
    }
   ],
   "source": [
    "from tkinter import *\n",
    "import tkinter as tk\n",
    "import pickle\n",
    "from sklearn.feature_extraction.text import TfidfVectorizer\n",
    " \n",
    "spam_model = pickle.load(open(\"D:/email-spam/src/source/finalized_model.sav\",'rb'))\n",
    "tfidf = TfidfVectorizer()\n",
    " \n",
    "def check_spam():\n",
    "    text = spam_text_Entry.get()\n",
    "    is_spam = spam_model.predict(tfidf.transform([text]))\n",
    "    is_spam = model.predict([email_text])\n",
    "    if is_spam == 1:\n",
    "        print(\"text is spam\")\n",
    "        my_string_var.set(\"Result: text is spam\")\n",
    "    else:\n",
    "        print(\"text is not spam\")\n",
    "        my_string_var.set(\"Result: text is not spam\")\n",
    "win = Tk()\n",
    " \n",
    "win.geometry(\"400x600\")\n",
    "win.configure(background=\"cyan\")\n",
    "win.title(\"Sms Spam Detector\")\n",
    " \n",
    "title = Label(win, text=\"SMS Spam Detector\", bg=\"gray\",width=\"300\",height=\"2\",fg=\"white\",font=(\"Calibri 20 bold italic underline\")).pack()\n",
    " \n",
    "spam_text = Label(win, text=\"Enter your Text: \",bg=\"cyan\", font=(\"Verdana 12\")).place(x=12,y=100)\n",
    "spam_text_Entry = Entry(win, textvariable=spam_text,width=33)\n",
    "spam_text_Entry.place(x=155, y=105)\n",
    " \n",
    "my_string_var = StringVar()\n",
    "my_string_var.set(\"Result: \")\n",
    " \n",
    "print_spam = Label(win, textvariable=my_string_var,bg=\"cyan\", font=(\"Verdana 12\")).place(x=12,y=200)\n",
    " \n",
    "Button = Button(win, text=\"Submit\",width=\"12\",height=\"1\",activebackground=\"red\",bg=\"Pink\",command=check_spam,font=(\"Verdana 12\")).place(x=12,y=150)\n",
    " \n",
    "win.mainloop()"
   ]
  },
  {
   "cell_type": "code",
   "execution_count": null,
   "id": "98ba72ee-1900-4398-930b-6c74ee72ba4d",
   "metadata": {},
   "outputs": [],
   "source": []
  }
 ],
 "metadata": {
  "kernelspec": {
   "display_name": "Python 3 (ipykernel)",
   "language": "python",
   "name": "python3"
  },
  "language_info": {
   "codemirror_mode": {
    "name": "ipython",
    "version": 3
   },
   "file_extension": ".py",
   "mimetype": "text/x-python",
   "name": "python",
   "nbconvert_exporter": "python",
   "pygments_lexer": "ipython3",
   "version": "3.12.2"
  }
 },
 "nbformat": 4,
 "nbformat_minor": 5
}
